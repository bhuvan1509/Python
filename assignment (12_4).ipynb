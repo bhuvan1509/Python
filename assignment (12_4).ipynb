{
 "cells": [
  {
   "cell_type": "code",
   "execution_count": 1,
   "id": "1a094c1e",
   "metadata": {},
   "outputs": [
    {
     "name": "stdout",
     "output_type": "stream",
     "text": [
      "using sorted function:\n",
      "max element in the list is: 56\n",
      "56\n",
      "min element in the list is: 2\n",
      "2\n"
     ]
    }
   ],
   "source": [
    "#Assignment (12-4-24)(7-13)\n",
    "#8,9. maximum ,minimum element in a list\n",
    "list1 = [3,2,5,4,33,56,7,22,54,50]\n",
    "s_l = sorted(list1)\n",
    "print(\"using sorted function:\")\n",
    "print(f\"max element in the list is: {s_l[-1]}\")\n",
    "print(max(list1))\n",
    "print(f\"min element in the list is: {s_l[0]}\")\n",
    "print(min(list1))"
   ]
  },
  {
   "cell_type": "code",
   "execution_count": 2,
   "id": "7eb74a88",
   "metadata": {},
   "outputs": [
    {
     "name": "stdout",
     "output_type": "stream",
     "text": [
      "33\n"
     ]
    }
   ],
   "source": [
    "#10.middle element in a list \n",
    "# using functions.........................\n",
    "\n",
    "lst = [3,9,8,2,5,4,33,56,7,22,54,50,0]\n",
    "def middle_ele(input_list) :\n",
    "    l = len(input_list)\n",
    "    for i in range(0,l):\n",
    "        if i == l//2 :\n",
    "            print(input_list[i])\n",
    "        \n",
    "middle_ele(lst)"
   ]
  },
  {
   "cell_type": "code",
   "execution_count": 5,
   "id": "90981355",
   "metadata": {},
   "outputs": [
    {
     "name": "stdout",
     "output_type": "stream",
     "text": [
      " hello\n"
     ]
    }
   ],
   "source": [
    "#11.converting list to string\n",
    "str = \" \"\n",
    "s_l = [\"h\",\"e\",\"l\",\"l\",\"o\"]\n",
    "for i in range(0,len(s_l)):\n",
    "    str =str + s_l[i]\n",
    "    \n",
    "print(str)\n",
    "\n",
    "#using join() function\n",
    "\n",
    "str1 = \"\"\n",
    "s_l2 = [\"hello \",\"bhuvan \",\"how \",\"are \",\"you\"]\n",
    "str1 = str1.join(s_l2)\n",
    "str1"
   ]
  },
  {
   "cell_type": "code",
   "execution_count": 33,
   "id": "598c207a",
   "metadata": {},
   "outputs": [
    {
     "name": "stdout",
     "output_type": "stream",
     "text": [
      " esrever ot si siht\n",
      " navuhb olleh\n",
      "fg, navuhb olleh\n",
      "safkjdshjkf\n",
      "zyxwvutsrqponmlkjihgfedcba\n"
     ]
    }
   ],
   "source": [
    "#12. to reverse a string 6 ways \n",
    "#1) using fro loop (reverse iteration)\n",
    "str2 = \"this is to reverse\"\n",
    "str2_r = \" \"\n",
    "for i in range(len(str2)-1 , -1 , -1):\n",
    "    str2_r = str2_r  + str2[i]\n",
    "                \n",
    "print(str2_r)\n",
    "\n",
    "#2) usinr recurssion functions\n",
    "str3 =\"hello bhuvan \"\n",
    "def reverse(str_3):\n",
    "    if len(str_3) == 0:\n",
    "        return str_3\n",
    "    else :\n",
    "        return reverse(str_3[1:]) + str_3[0]\n",
    "reverse_string_3 = reverse(str3)\n",
    "print(reverse_string_3)\n",
    "\n",
    "#4) using slicing start ,stop, step(-1)\n",
    "str4 = \"hello bhuvan ,gf\"\n",
    "def reversee(str4):\n",
    "    str4 = str4[::-1]\n",
    "    return str4\n",
    "print( reversee(str4))\n",
    "\n",
    "#5) using inbuilt functions (reversed() for strings) \n",
    "str= \"fkjhsdjkfas\"\n",
    "print(reversed(str))\n",
    "\n",
    "\n",
    "#6) uing list reverse function1:\n",
    "str5 = \"abcdefghijklmnopqrstuvwxyz\"\n",
    "str5 = list(str5)\n",
    "str5.reverse()\n",
    "str5 = \"\".join(str5)\n",
    "print(str5)\n"
   ]
  },
  {
   "cell_type": "code",
   "execution_count": 51,
   "id": "67ca2caf",
   "metadata": {},
   "outputs": [
    {
     "name": "stdout",
     "output_type": "stream",
     "text": [
      "hellomynameisbhuvan\n",
      "hello my name is bhuvan    \n",
      "    hello my name is bhuvan\n",
      "hellomynameisbhuvan\n"
     ]
    }
   ],
   "source": [
    "#13 to remove the white spaces in a string\n",
    "str6 = \"    hello my name is bhuvan    \"\n",
    "#using replace(), functions\n",
    "def remove(str):\n",
    "    s = str.replace(\" \",\"\")\n",
    "    return s\n",
    "r = remove(str6)\n",
    "print(r)\n",
    "\n",
    "#strip() -- only at the ends\n",
    "str_6 = str6.lstrip()  #left strip \n",
    "str__6 = str6.rstrip(\"o \")# right strip \n",
    "print(str_6)\n",
    "print(str__6)\n",
    "\n",
    "\n",
    "# suing isspace()\n",
    "def remove(string):\n",
    "    ns=\"\"\n",
    "    for i in string:\n",
    "        if(not i.isspace()):\n",
    "            ns+=i\n",
    "    return ns    \n",
    "print(remove(str6))\n",
    "\n",
    "#"
   ]
  },
  {
   "cell_type": "code",
   "execution_count": 56,
   "id": "bebc1200",
   "metadata": {},
   "outputs": [
    {
     "name": "stdout",
     "output_type": "stream",
     "text": [
      "enter number:10\n",
      "1 2 3 5 8 13 21 34 55 \n",
      "55\n"
     ]
    }
   ],
   "source": [
    "#fibonacci series\n",
    "\n",
    "n1 = 0\n",
    "n2 = 1\n",
    "n = int(input(\"enter number:\"))\n",
    "next = n2\n",
    "count = 1 \n",
    "\n",
    "while  count < n :\n",
    "    print(next ,end = \" \")\n",
    "    count += 1\n",
    "    n1 ,n2 = n2 ,next\n",
    "    next = n1+n2\n",
    "print()\n",
    "\n",
    "#using recurssion\n",
    "\n",
    "def fibo(num):\n",
    "    if num < 0:\n",
    "        print(\"invalid number\")\n",
    "    elif num == 0:\n",
    "        return 0\n",
    "    elif num == 1 or num == 2:\n",
    "        return 1\n",
    "    else :\n",
    "        return fibo(num-1) + fibo(num-2)\n",
    "print(fibo(n)) #displays the fibonacci number\n",
    "\n"
   ]
  },
  {
   "cell_type": "code",
   "execution_count": null,
   "id": "9b37be4b",
   "metadata": {},
   "outputs": [],
   "source": []
  }
 ],
 "metadata": {
  "kernelspec": {
   "display_name": "Python 3 (ipykernel)",
   "language": "python",
   "name": "python3"
  },
  "language_info": {
   "codemirror_mode": {
    "name": "ipython",
    "version": 3
   },
   "file_extension": ".py",
   "mimetype": "text/x-python",
   "name": "python",
   "nbconvert_exporter": "python",
   "pygments_lexer": "ipython3",
   "version": "3.11.4"
  }
 },
 "nbformat": 4,
 "nbformat_minor": 5
}
