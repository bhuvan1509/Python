{
 "cells": [
  {
   "cell_type": "code",
   "execution_count": 12,
   "id": "b2745007",
   "metadata": {
    "scrolled": true
   },
   "outputs": [
    {
     "name": "stdout",
     "output_type": "stream",
     "text": [
      "name2 =jhksfk\n",
      "age2 45\n",
      "salary2 =65465.5\n",
      "my name is = kick  ,my age is 31 ,and my package is = 12.500000\n",
      "my name is  kick  ,my age is 31 ,and my package is = 12.5\n",
      "my name is  kick  ,my age is 31 ,and my package is = 12.5\n",
      "my name is = jhksfk ,my age is= 45 ,and my package is = 65465.500000\n",
      "my name is  jhksfk ,my age is 45 ,and my package is = 65465.5\n",
      "my name is  jhksfk ,my age is 45 ,and my package is = 65465.5\n"
     ]
    }
   ],
   "source": [
    "#string format\n",
    "#static  age name salary\n",
    "age1 = 31\n",
    "name = 'kick '\n",
    "salary = 12.5\n",
    "\n",
    "\n",
    "\n",
    "#dynamic input\n",
    "name2 = input(\"name2 =\")\n",
    "\n",
    "age2 = int(input(\"age2 \"))\n",
    "\n",
    "salary2 = float(input(\"salary2 =\"))\n",
    "\n",
    "\n",
    "#string format \n",
    "#old\n",
    "print(\"my name is = %s ,my age is %d ,and my package is = %f\" %(name,age1,salary))\n",
    "\n",
    "#format method\n",
    "print(\"my name is  {} ,my age is {} ,and my package is = {}\" .format(name,age1,salary))\n",
    "\n",
    "#fstring\n",
    "\n",
    "print(f\"my name is  {name} ,my age is {age1} ,and my package is = {salary}\" )\n",
    "\n",
    "\n",
    "#string format ---- dynamic\n",
    "\n",
    "#old\n",
    "print(\"my name is = %s ,my age is= %d ,and my package is = %f\" %(name2,age2,salary2))\n",
    "\n",
    "#format method\n",
    "print(\"my name is  {} ,my age is {} ,and my package is = {}\" .format(name2,age2,salary2))\n",
    "\n",
    "#fstring\n",
    "\n",
    "print(f\"my name is  {name2} ,my age is {age2} ,and my package is = {salary2}\" )\n",
    "\n"
   ]
  },
  {
   "cell_type": "code",
   "execution_count": null,
   "id": "22dde420",
   "metadata": {},
   "outputs": [],
   "source": []
  },
  {
   "cell_type": "code",
   "execution_count": 23,
   "id": "f93e62bc",
   "metadata": {},
   "outputs": [
    {
     "name": "stdout",
     "output_type": "stream",
     "text": [
      "10\n",
      "HELLO MOTO\n",
      "hello moto\n",
      "HELLO MOTO\n",
      "hello samsung\n",
      "   remove white spaces  \n",
      "remove white spaces\n",
      "['1kjhsdj', '2fjkshdjkfh', '3kjhfjh', '4jnjkbvn', '5sad']\n",
      "1kjhsdj 2fjkshdjkfh 3kjhfjh 4jnjkbvn 5sad\n"
     ]
    }
   ],
   "source": [
    "##string functions \n",
    "\n",
    "#len,lower,upper,replace,strip,split,join\n",
    "\n",
    "str1 = 'hello moto'\n",
    "print(len(str1))\n",
    "\n",
    "#print(str1.upper())\n",
    "\n",
    "str2 =str1.lower()\n",
    "print(str2)\n",
    "\n",
    "str3 =str1.upper()\n",
    "print(str3)\n",
    "\n",
    "str4 = str1.replace(\"moto\" , \"samsung\")\n",
    "print(str4)\n",
    "\n",
    "\n",
    "str5 =  \"   remove white spaces  \"\n",
    "print(str5) #before removal\n",
    "str6 = str5.strip()\n",
    "print(str6) #after removal\n",
    "\n",
    "str7 = \"1kjhsdj 2fjkshdjkfh 3kjhfjh 4jnjkbvn 5sad\"\n",
    "str8 = str7.split()\n",
    "print(str8)\n",
    "str9 =\" \".join(str8)\n",
    "print(str9)\n",
    "\n",
    "#but in join the syntax is somewhat different ie..\n",
    "# \"any_character/white space\".join(...words to join/ string name.....)"
   ]
  },
  {
   "cell_type": "code",
   "execution_count": null,
   "id": "0fad0a12",
   "metadata": {},
   "outputs": [],
   "source": []
  }
 ],
 "metadata": {
  "kernelspec": {
   "display_name": "Python 3 (ipykernel)",
   "language": "python",
   "name": "python3"
  },
  "language_info": {
   "codemirror_mode": {
    "name": "ipython",
    "version": 3
   },
   "file_extension": ".py",
   "mimetype": "text/x-python",
   "name": "python",
   "nbconvert_exporter": "python",
   "pygments_lexer": "ipython3",
   "version": "3.11.4"
  }
 },
 "nbformat": 4,
 "nbformat_minor": 5
}
