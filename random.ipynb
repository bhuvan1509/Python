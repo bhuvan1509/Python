{
 "cells": [
  {
   "cell_type": "code",
   "execution_count": 47,
   "id": "d4e2c385",
   "metadata": {},
   "outputs": [
    {
     "name": "stdout",
     "output_type": "stream",
     "text": [
      "{1, 2, 3, 5, -4}\n",
      "{1, 2, 3, 5, 'sfd', 'asdf', 'dsfas', -4}\n",
      "{1, 4, 6, 234, 534, 23}\n",
      "came to else\n",
      "came to else\n",
      "came to else\n",
      "came to else\n",
      "came to else\n",
      "came to else\n",
      "came to else\n",
      "cur val is 8\n",
      "cur val is 9\n",
      "cur val is 10\n",
      "outer while else block\n",
      "for loop\n",
      "b\n"
     ]
    }
   ],
   "source": [
    "# sets in python\n",
    "set1 = {11,2,3,-4}\n",
    "set1.add(5)\n",
    "set1.remove(11)\n",
    "set1.add(1)\n",
    "set1.discard(1)\n",
    "set1.add(1)\n",
    "print(set1)\n",
    "\n",
    "set2 = {\"asdf\", \"dsfas\",\"sfd\"}\n",
    "set1.update(set2)\n",
    "print(set1)\n",
    "\n",
    "list1 = [1,23,4,6,234,534]\n",
    "set3 = set(list1)\n",
    "print(set3)\n",
    "\n",
    "# \\*----------------------------------------------------------------------------------------------------------*\\\n",
    "\n",
    "#while loop \n",
    "i = 1\n",
    "while i<=10 :\n",
    "    if i > 7 :\n",
    "        print(f'cur val is {i}')\n",
    "    else :\n",
    "        print(\"came to else\")\n",
    "    i += 1\n",
    "else :\n",
    "    print(\"outer while else block\")\n",
    "\n",
    "print(\"for loop\")\n",
    "\n",
    "#if in a single line\n",
    "\n",
    "a=1 \n",
    "b=2\n",
    "print(\"a\") if a>b else print(\"b\")"
   ]
  },
  {
   "cell_type": "code",
   "execution_count": null,
   "id": "26dd8163",
   "metadata": {},
   "outputs": [],
   "source": [
    "f"
   ]
  }
 ],
 "metadata": {
  "kernelspec": {
   "display_name": "Python 3 (ipykernel)",
   "language": "python",
   "name": "python3"
  },
  "language_info": {
   "codemirror_mode": {
    "name": "ipython",
    "version": 3
   },
   "file_extension": ".py",
   "mimetype": "text/x-python",
   "name": "python",
   "nbconvert_exporter": "python",
   "pygments_lexer": "ipython3",
   "version": "3.11.4"
  }
 },
 "nbformat": 4,
 "nbformat_minor": 5
}
