{
 "cells": [
  {
   "cell_type": "code",
   "execution_count": 11,
   "id": "393a9cca",
   "metadata": {},
   "outputs": [
    {
     "name": "stdout",
     "output_type": "stream",
     "text": [
      "{1: {'name': 'sdfs', 'age': 5, 'aadhar': 5, 'pan': 'df', 'phno': 'asdf', 'village': 'asdf'}, 2: {'name': 'sdfs', 'age': 5, 'aadhar': 5, 'pan': 'df', 'phno': 'asdf', 'village': 'asdf'}, 4: {'sex': 'dfjsjdkf'}}\n"
     ]
    }
   ],
   "source": [
    "details = {1 : {'name' : \"sdfs\",'age' : 5,'aadhar' : 5,'pan' : 'df','phno' : \"asdf\",'village' : \"asdf\"} , \n",
    "          2 : {'name' : \"sdfs\",'age' : 5,'aadhar' : 5,'pan' : 'df','phno' : \"asdf\",'village' : \"asdf\"} }\n",
    "details[4] = {}\n",
    "details[4]['sex'] = \"dfjsjdkf\"\n",
    "print(details)"
   ]
  },
  {
   "cell_type": "code",
   "execution_count": null,
   "id": "c0635879",
   "metadata": {},
   "outputs": [],
   "source": []
  }
 ],
 "metadata": {
  "kernelspec": {
   "display_name": "Python 3 (ipykernel)",
   "language": "python",
   "name": "python3"
  },
  "language_info": {
   "codemirror_mode": {
    "name": "ipython",
    "version": 3
   },
   "file_extension": ".py",
   "mimetype": "text/x-python",
   "name": "python",
   "nbconvert_exporter": "python",
   "pygments_lexer": "ipython3",
   "version": "3.11.4"
  }
 },
 "nbformat": 4,
 "nbformat_minor": 5
}
