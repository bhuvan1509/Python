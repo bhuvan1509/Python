{
 "cells": [
  {
   "cell_type": "code",
   "execution_count": 1,
   "id": "d28f145d",
   "metadata": {},
   "outputs": [
    {
     "name": "stdout",
     "output_type": "stream",
     "text": [
      "{}\n"
     ]
    }
   ],
   "source": [
    "#python dictonaries\n",
    "\n",
    "#empty \n",
    "e_dict = {}\n",
    "print(e_dict)\n"
   ]
  },
  {
   "cell_type": "code",
   "execution_count": 5,
   "id": "dc964e5f",
   "metadata": {},
   "outputs": [
    {
     "name": "stdout",
     "output_type": "stream",
     "text": [
      "{'key1': 'value1', 'key2': 'value2', 'key3': 'value3'}\n"
     ]
    }
   ],
   "source": [
    "dict1 = {'key1' : 'value1' , 'key2' : 'value2' , 'key3' : 'value3'}\n",
    "print(dict1)"
   ]
  },
  {
   "cell_type": "code",
   "execution_count": 6,
   "id": "4ad802dd",
   "metadata": {},
   "outputs": [
    {
     "name": "stdout",
     "output_type": "stream",
     "text": [
      "{1: 420, 2: 520, 3: 620, 4: 'bruzz', 5: 1.25, 'six': 6}\n"
     ]
    }
   ],
   "source": [
    "dict2 = {1 : 420, 2 : 520 , 3: 620 , 4 : 'bruzz' , 5 : 1.25 , 'six' : 6}\n",
    "\n",
    "print(dict2)"
   ]
  },
  {
   "cell_type": "code",
   "execution_count": 14,
   "id": "b5d89cd8",
   "metadata": {},
   "outputs": [
    {
     "name": "stdout",
     "output_type": "stream",
     "text": [
      "{1: 420, 2: 'five twenty', 3: 620, 4: 'bruzz', 5: 1.25, 'six': 6, 'seven': 7}\n",
      "{1: 420, 2: 'five twenty', 3: 620, 4: 'bruzz', 5: 1.25, 'six': 6, 'seven': 7}\n",
      "420\n",
      "five twenty\n",
      "not given any values\n"
     ]
    }
   ],
   "source": [
    "\n",
    "#modify values \n",
    "dict2[2] ='five twenty'\n",
    "print(dict2)\n",
    "\n",
    "#adding new item\n",
    "dict2['seven'] = 7\n",
    "print(dict2)\n",
    "\n",
    "#methods\n",
    "\n",
    "#1.get()\n",
    "g1 = dict2.get(1)\n",
    "print(g1)\n",
    "\n",
    "g2 = dict2.get(2, \"not given any values\")\n",
    "print(g2)\n",
    "\n",
    "g3 = dict2.get(8, \"not given any values\")\n",
    "print(g3)\n",
    "\n"
   ]
  },
  {
   "cell_type": "code",
   "execution_count": 17,
   "id": "4abdd094",
   "metadata": {},
   "outputs": [
    {
     "name": "stdout",
     "output_type": "stream",
     "text": [
      "dict_keys([1, 2, 3, 4, 5, 'six', 'seven'])\n",
      "dict_values([420, 'five twenty', 620, 'bruzz', 1.25, 6, 7])\n",
      "dict_items([(1, 420), (2, 'five twenty'), (3, 620), (4, 'bruzz'), (5, 1.25), ('six', 6), ('seven', 7)])\n",
      "{1.25, 420, 6, 7, 620, 'bruzz', 'five twenty'}\n"
     ]
    }
   ],
   "source": [
    "#2 keys(),items(), values()\n",
    "\n",
    "keys = dict2.keys()\n",
    "print(keys)\n",
    "\n",
    "values = dict2.values()\n",
    "print(values)\n",
    "\n",
    "items = dict2.items()\n",
    "print(items)\n",
    "\n",
    "val= set(values)  # list -> set conversion\n",
    "print(val)  \n",
    "\n",
    "\n"
   ]
  },
  {
   "cell_type": "code",
   "execution_count": 26,
   "id": "1bf646a3",
   "metadata": {},
   "outputs": [
    {
     "name": "stdout",
     "output_type": "stream",
     "text": [
      "(5, 1.25)\n",
      "{4: 'bruzz'}\n"
     ]
    }
   ],
   "source": [
    "# pop() ,popitem()\n",
    "\n",
    "#pop1 = dict2.pop(3)\n",
    "#print(pop1)\n",
    "\n",
    "popitem1 = dict2.popitem()\n",
    "print(popitem1)  #last item by default\"\"\"\n",
    "print(dict2)"
   ]
  },
  {
   "cell_type": "code",
   "execution_count": 28,
   "id": "1b12964b",
   "metadata": {},
   "outputs": [
    {
     "name": "stdout",
     "output_type": "stream",
     "text": [
      "{4: 'bruzz', 'nine': 9, 10: 'ten'}\n"
     ]
    }
   ],
   "source": [
    "add_dict = {'nine' : 9, 10 :'ten'}\n",
    "dict2.update(add_dict)\n",
    "print(dict2)"
   ]
  },
  {
   "cell_type": "code",
   "execution_count": 34,
   "id": "2cd4897f",
   "metadata": {},
   "outputs": [
    {
     "name": "stdout",
     "output_type": "stream",
     "text": [
      "{4: 'bruzz', 'nine': 9, 10: 'ten', '11': 11}\n"
     ]
    }
   ],
   "source": [
    "dict2.update({\"11\" : 11})\n",
    "print(dict2)"
   ]
  },
  {
   "cell_type": "code",
   "execution_count": 36,
   "id": "11c68028",
   "metadata": {},
   "outputs": [
    {
     "name": "stdout",
     "output_type": "stream",
     "text": [
      "4\n",
      "nine\n",
      "10\n",
      "11\n"
     ]
    }
   ],
   "source": [
    "#loops on dictonaries\n",
    "\n",
    "for x in dict2 :\n",
    "    print(x)\n"
   ]
  },
  {
   "cell_type": "code",
   "execution_count": 49,
   "id": "d494e4c8",
   "metadata": {},
   "outputs": [
    {
     "name": "stdout",
     "output_type": "stream",
     "text": [
      "4 bruzz\n",
      "nine 9\n",
      "10 ten\n",
      "11 11\n",
      "\n",
      "\n",
      "---> using zip \n",
      "4 bruzz\n",
      "nine 9\n",
      "10 ten\n",
      "11 11\n"
     ]
    }
   ],
   "source": [
    "#itms = dict2.items()\n",
    "for x , y in  dict2.items() :\n",
    "    print( x , y)\n",
    "print('\\n')\n",
    "print(\"---> using zip \")\n",
    "for (x , y) in zip(dict2.keys(),dict2.values()) :\n",
    "    print( x, y)"
   ]
  },
  {
   "cell_type": "code",
   "execution_count": null,
   "id": "c5bf45cb",
   "metadata": {},
   "outputs": [],
   "source": []
  }
 ],
 "metadata": {
  "kernelspec": {
   "display_name": "Python 3 (ipykernel)",
   "language": "python",
   "name": "python3"
  },
  "language_info": {
   "codemirror_mode": {
    "name": "ipython",
    "version": 3
   },
   "file_extension": ".py",
   "mimetype": "text/x-python",
   "name": "python",
   "nbconvert_exporter": "python",
   "pygments_lexer": "ipython3",
   "version": "3.11.4"
  }
 },
 "nbformat": 4,
 "nbformat_minor": 5
}
