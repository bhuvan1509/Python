{
 "cells": [
  {
   "cell_type": "code",
   "execution_count": 34,
   "id": "9ceb24ae",
   "metadata": {},
   "outputs": [
    {
     "name": "stdout",
     "output_type": "stream",
     "text": [
      "options:\n",
      "1- rock,\n",
      "2- paper,\n",
      "3- scissors\n",
      "\n",
      "enter your choice: (rock paper scissrs)1\n",
      "player = 1 and computer = 3\n",
      "you lost\n",
      "y- play , n- notplay :n\n",
      "thankyou..nice play  :)\n"
     ]
    }
   ],
   "source": [
    "# rock paper scisors\n",
    "import random\n",
    "print(\"\"\"options:\n",
    "1- rock,\n",
    "2- paper,\n",
    "3- scissors\n",
    "\"\"\")\n",
    "opt = (1,2,3)\n",
    "willplay = True\n",
    "player = 0\n",
    "computer = random.choice(opt)\n",
    "while willplay == True :\n",
    "    \n",
    "    player = input(\"enter your choice: (rock paper scissrs)\")\n",
    "    print(f\"player = {player} and computer = {computer}\")\n",
    "    if player == computer :\n",
    "        print(\"its a tie\")\n",
    "    elif player == 2 and computer == 1 :\n",
    "        print(\"you win\")\n",
    "    elif player == 3 and computer == 2:\n",
    "        print(\"you win\")\n",
    "    elif player == 1 and computer == 3 :\n",
    "        print(\"you win\")\n",
    "    else :\n",
    "        print(\"you lost\")\n",
    "    c = input(\"y- play , n- notplay :\")\n",
    "    if not c == \"y\":\n",
    "        willplay == False #other than y it will end\n",
    "        print(\"thankyou..nice play  :)\")\n",
    "        break\n",
    "    \n",
    "\n"
   ]
  },
  {
   "cell_type": "code",
   "execution_count": null,
   "id": "d76a448b",
   "metadata": {},
   "outputs": [],
   "source": []
  }
 ],
 "metadata": {
  "kernelspec": {
   "display_name": "Python 3 (ipykernel)",
   "language": "python",
   "name": "python3"
  },
  "language_info": {
   "codemirror_mode": {
    "name": "ipython",
    "version": 3
   },
   "file_extension": ".py",
   "mimetype": "text/x-python",
   "name": "python",
   "nbconvert_exporter": "python",
   "pygments_lexer": "ipython3",
   "version": "3.11.4"
  }
 },
 "nbformat": 4,
 "nbformat_minor": 5
}
