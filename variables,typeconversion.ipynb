{
 "cells": [
  {
   "cell_type": "code",
   "execution_count": 1,
   "id": "6cc3b807",
   "metadata": {},
   "outputs": [],
   "source": [
    "#valid variables\n",
    "a1 = 10\n",
    "_valid1 = \"hey im valid\"\n",
    "valid_2 = \"me too \"\n",
    "valid3_ =\"im 3\"\n",
    "val4id = \"in between integer\"\n",
    "val_id5 =\" in between underscore\"\n"
   ]
  },
  {
   "cell_type": "code",
   "execution_count": 2,
   "id": "3f1db602",
   "metadata": {},
   "outputs": [
    {
     "name": "stdout",
     "output_type": "stream",
     "text": [
      "10 hey im valid me too  im 3 in between integer  in between underscore\n"
     ]
    }
   ],
   "source": [
    "print(a1,_valid1,valid_2,valid3_,val4id,val_id5)"
   ]
  },
  {
   "cell_type": "code",
   "execution_count": 3,
   "id": "b8165816",
   "metadata": {},
   "outputs": [
    {
     "name": "stderr",
     "output_type": "stream",
     "text": [
      "<>:2: SyntaxWarning: invalid decimal literal\n",
      "<>:2: SyntaxWarning: invalid decimal literal\n",
      "C:\\Users\\Bhuvan raju\\AppData\\Local\\Temp\\ipykernel_16228\\1855001044.py:2: SyntaxWarning: invalid decimal literal\n",
      "  1inval = \"kjdhf\"\n"
     ]
    },
    {
     "ename": "SyntaxError",
     "evalue": "invalid syntax (1855001044.py, line 2)",
     "output_type": "error",
     "traceback": [
      "\u001b[1;36m  Cell \u001b[1;32mIn[3], line 2\u001b[1;36m\u001b[0m\n\u001b[1;33m    1inval = \"kjdhf\"\u001b[0m\n\u001b[1;37m     ^\u001b[0m\n\u001b[1;31mSyntaxError\u001b[0m\u001b[1;31m:\u001b[0m invalid syntax\n"
     ]
    }
   ],
   "source": [
    "#invalid variabes\n",
    "1inval = \"kjdhf\"\n",
    "@inval2- \"fsdf\"\n",
    "368714634 = \"sdfad\"\n",
    "$&^$&^ = \"sdkjfhas\"\n",
    "\"fadfhas\" = 2376\n"
   ]
  },
  {
   "cell_type": "code",
   "execution_count": 4,
   "id": "4bc4d822",
   "metadata": {},
   "outputs": [
    {
     "ename": "TypeError",
     "evalue": "type() takes 1 or 3 arguments",
     "output_type": "error",
     "traceback": [
      "\u001b[1;31m---------------------------------------------------------------------------\u001b[0m",
      "\u001b[1;31mTypeError\u001b[0m                                 Traceback (most recent call last)",
      "Cell \u001b[1;32mIn[4], line 6\u001b[0m\n\u001b[0;32m      4\u001b[0m a3 \u001b[38;5;241m=\u001b[39m \u001b[38;5;28mint\u001b[39m(a2)\n\u001b[0;32m      5\u001b[0m a4 \u001b[38;5;241m=\u001b[39m \u001b[38;5;28mfloat\u001b[39m(a1)\n\u001b[1;32m----> 6\u001b[0m \u001b[38;5;28mprint\u001b[39m(\u001b[38;5;28mtype\u001b[39m(a3,a4))\n",
      "\u001b[1;31mTypeError\u001b[0m: type() takes 1 or 3 arguments"
     ]
    }
   ],
   "source": [
    "#type conversions in python\n",
    "a1 = 1\n",
    "a2 = 1.5 \n",
    "a3 = int(a2)\n",
    "a4 = float(a1)\n",
    "print(type(a3,a4))"
   ]
  },
  {
   "cell_type": "code",
   "execution_count": 6,
   "id": "bc22f5c6",
   "metadata": {},
   "outputs": [
    {
     "name": "stdout",
     "output_type": "stream",
     "text": [
      "<class 'int'>\n",
      "<class 'float'>\n"
     ]
    }
   ],
   "source": [
    "#type conversions in python\n",
    "a1 = 1\n",
    "a2 = 1.5 \n",
    "a3 = int(a2)\n",
    "a4 = float(a1)\n",
    "print(type(a3))\n",
    "print(type(a4))"
   ]
  },
  {
   "cell_type": "code",
   "execution_count": 7,
   "id": "1a49139f",
   "metadata": {},
   "outputs": [
    {
     "name": "stdout",
     "output_type": "stream",
     "text": [
      "2\n"
     ]
    }
   ],
   "source": [
    "a5 = a1 + int(a2)\n",
    "print(a5)"
   ]
  },
  {
   "cell_type": "code",
   "execution_count": 8,
   "id": "58383f3c",
   "metadata": {},
   "outputs": [
    {
     "name": "stdout",
     "output_type": "stream",
     "text": [
      "<class 'complex'>\n"
     ]
    }
   ],
   "source": [
    "b1 = 6+5j\n",
    "print(type(b1))"
   ]
  },
  {
   "cell_type": "code",
   "execution_count": 9,
   "id": "0639aab8",
   "metadata": {},
   "outputs": [
    {
     "name": "stdout",
     "output_type": "stream",
     "text": [
      "(8+8j)\n"
     ]
    }
   ],
   "source": [
    "b2 = 2 + 3j\n",
    "b3 = b1 + b2\n",
    "print(b3)"
   ]
  },
  {
   "cell_type": "code",
   "execution_count": 15,
   "id": "182c90ce",
   "metadata": {},
   "outputs": [],
   "source": [
    "## complex addition"
   ]
  },
  {
   "cell_type": "code",
   "execution_count": 10,
   "id": "13364159",
   "metadata": {},
   "outputs": [
    {
     "name": "stdout",
     "output_type": "stream",
     "text": [
      "<class 'complex'>\n"
     ]
    }
   ],
   "source": [
    "print(type(b3))"
   ]
  },
  {
   "cell_type": "code",
   "execution_count": 13,
   "id": "9d83d71c",
   "metadata": {},
   "outputs": [
    {
     "ename": "TypeError",
     "evalue": "int() argument must be a string, a bytes-like object or a real number, not 'complex'",
     "output_type": "error",
     "traceback": [
      "\u001b[1;31m---------------------------------------------------------------------------\u001b[0m",
      "\u001b[1;31mTypeError\u001b[0m                                 Traceback (most recent call last)",
      "Cell \u001b[1;32mIn[13], line 1\u001b[0m\n\u001b[1;32m----> 1\u001b[0m b5 \u001b[38;5;241m=\u001b[39m \u001b[38;5;28mint\u001b[39m(b3)\n\u001b[0;32m      2\u001b[0m \u001b[38;5;28mprint\u001b[39m(\u001b[38;5;28mtype\u001b[39m(b5))\n",
      "\u001b[1;31mTypeError\u001b[0m: int() argument must be a string, a bytes-like object or a real number, not 'complex'"
     ]
    }
   ],
   "source": [
    "b5 = int(b3)\n",
    "print(type(b5)) # there will be an typeerror"
   ]
  },
  {
   "cell_type": "markdown",
   "id": "fe974cfc",
   "metadata": {},
   "source": []
  },
  {
   "cell_type": "code",
   "execution_count": null,
   "id": "e3036d37",
   "metadata": {},
   "outputs": [],
   "source": []
  }
 ],
 "metadata": {
  "kernelspec": {
   "display_name": "Python 3 (ipykernel)",
   "language": "python",
   "name": "python3"
  },
  "language_info": {
   "codemirror_mode": {
    "name": "ipython",
    "version": 3
   },
   "file_extension": ".py",
   "mimetype": "text/x-python",
   "name": "python",
   "nbconvert_exporter": "python",
   "pygments_lexer": "ipython3",
   "version": "3.11.4"
  }
 },
 "nbformat": 4,
 "nbformat_minor": 5
}
