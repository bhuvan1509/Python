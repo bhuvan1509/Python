{
 "cells": [
  {
   "cell_type": "code",
   "execution_count": 27,
   "id": "6fce322b",
   "metadata": {},
   "outputs": [
    {
     "name": "stdout",
     "output_type": "stream",
     "text": [
      "enter your order :fhg\n",
      "Prasad Restarent\n",
      "your order is fhg\n",
      "\n",
      "\n",
      "sorry!!! ordered item not in the menu\n"
     ]
    }
   ],
   "source": [
    "#conditional statements\n",
    "#control statements\n",
    "#loops\n",
    "\n",
    "#assihgnment 8/4/24\n",
    "order = input(\"enter your order :\")\n",
    "\n",
    "non_veg = [\"biryani\",\"chicken manchurya\",\"chicken drumsticks\"]\n",
    "veg = [\"paneer\",\"dall\",\"capsicum\"]\n",
    "print(\"Prasad Restarent\")\n",
    "print(f\"your order is {order}\")\n",
    "\n",
    "#order = \"dall\"\n",
    "\"\"\"\n",
    "for item1 in non_veg :\n",
    "    if(order == item1):\n",
    "        print(\"order is non veg item\")\n",
    "        pass\n",
    "        \n",
    "for item2 in veg:\n",
    "    if(order == item2):\n",
    "        print(\"order is a veg item\")\n",
    "        break\n",
    "    else :\n",
    "        print(f\"sorry!!order \"\"{order}\"\" not in the menu\")\n",
    "        break\n",
    "\"\"\"      \n",
    "        \n",
    "        #or\n",
    "        \n",
    "print(\"\\n\")\n",
    "\n",
    "if order in non_veg :\n",
    "    print(f\"\\n your order is {order} and it is a non veg item\")\n",
    "elif order in veg :\n",
    "    print(f\"your order is {order} and it is veg item\")\n",
    "else :\n",
    "    print(\"sorry!!! ordered item not in the menu\")\n",
    "    \n",
    "    \n",
    "    \n",
    "    \n",
    "    "
   ]
  },
  {
   "cell_type": "code",
   "execution_count": null,
   "id": "f91fb46b",
   "metadata": {},
   "outputs": [],
   "source": []
  },
  {
   "cell_type": "code",
   "execution_count": null,
   "id": "ec00ba75",
   "metadata": {},
   "outputs": [],
   "source": []
  }
 ],
 "metadata": {
  "kernelspec": {
   "display_name": "Python 3 (ipykernel)",
   "language": "python",
   "name": "python3"
  },
  "language_info": {
   "codemirror_mode": {
    "name": "ipython",
    "version": 3
   },
   "file_extension": ".py",
   "mimetype": "text/x-python",
   "name": "python",
   "nbconvert_exporter": "python",
   "pygments_lexer": "ipython3",
   "version": "3.11.4"
  }
 },
 "nbformat": 4,
 "nbformat_minor": 5
}
