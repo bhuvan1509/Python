{
 "cells": [
  {
   "cell_type": "code",
   "execution_count": 49,
   "id": "5fa51bd2",
   "metadata": {},
   "outputs": [
    {
     "name": "stdout",
     "output_type": "stream",
     "text": [
      "[1, 99, 3, 4, 6]\n",
      "[1, 99, 3, 4, 6, 1]\n",
      "[1, 99, 3, 4, 6, 1, 'bhuv', 'nikhil', 'ram']\n",
      "ram\n",
      "1\n",
      "[33, 99, 3, 6, 'bhuv']\n",
      "3\n",
      "1\n",
      "[1.2, 2.3, 4.4, 5.1]\n",
      "[3, 6, 33, 99]\n",
      "[99, 33, 6, 3]\n"
     ]
    }
   ],
   "source": [
    "#operations on list\n",
    "\n",
    "#LIST's list\n",
    "lst1 = [1,2,3,4,5]\n",
    "lst2 = [\"bhuv\",\"nikhil\",\"ram\"]\n",
    "lst3 = [1.2,2.3,4.4,5.1]\n",
    "lst4 = [1,'viraj',7.2]\n",
    "\n",
    "#operations on LISTS\n",
    "\n",
    "#change lst1 items\n",
    "lst1[-1] = 6\n",
    "lst1[1]= 99\n",
    "print(lst1)\n",
    "\n",
    "#append,extend, insert,pop,index, count,sort,reverse\n",
    "lst1.append(1) \n",
    "list1 = lst1\n",
    "print(list1)\n",
    "\n",
    "lst1.extend(lst2)\n",
    "list2 = lst1\n",
    "print(list2)\n",
    "\n",
    "lst1.insert(0,33)\n",
    "lst1\n",
    "\n",
    "popped1 = lst1.pop()\n",
    "print(popped1)\n",
    "popped2 = lst1.pop(1)\n",
    "print(popped2)\n",
    "popped3 = lst1.pop(-1)\n",
    "popped4 =lst1.pop(-2)\n",
    "popped5 =lst1.pop(-3)\n",
    "\n",
    "print(lst1)\n",
    "\n",
    "\n",
    "index1 = lst1.index(6)\n",
    "print(index1) # it will  return the value at that index\n",
    "\n",
    "count1 = lst1.count(3)\n",
    "print(count1)\n",
    "lst1.pop(-1)\n",
    "\n",
    "lst3.sort()\n",
    "print(lst3)\n",
    "\n",
    "lst1.sort()\n",
    "print(lst1)\n",
    "\n",
    "lst1.reverse()\n",
    "print(lst1)"
   ]
  },
  {
   "cell_type": "code",
   "execution_count": 56,
   "id": "67bac741",
   "metadata": {},
   "outputs": [
    {
     "name": "stdout",
     "output_type": "stream",
     "text": [
      "['bhuv', 'nikhil', 'bruclee']\n",
      "['bhuv', 'nikhil', 'bruclee', 'kim']\n",
      "['bhuv', 'nikhil', 'bruclee', 'kim', 'hyderabad', 'warangal', 'golconda']\n",
      "['warner', 'bhuv', 'nikhil', 'bruclee', 'kim', 'hyderabad', 'warangal', 'golconda']\n",
      "golconda\n",
      "bhuv\n",
      "golconda bhuv 99 33\n"
     ]
    }
   ],
   "source": [
    "l1 = [\"bhuv\",\"nikhil\",\"ram\"]\n",
    "l2 = [\"hyderabad\" , \"warangal\", \"golconda\"]\n",
    "#operations on LISTS\n",
    "\n",
    "#change lst1 items\n",
    "l1[-1] = 'bruclee'\n",
    "print(l1)\n",
    "\n",
    "#append,extend, insert,pop,index, count,sort,reverse\n",
    "l1.append('kim') \n",
    "lt1 = l1\n",
    "print(lt1)\n",
    "\n",
    "l1.extend(l2)\n",
    "lt2 = l1\n",
    "print(lt2)\n",
    "\n",
    "l1.insert(0,'warner')\n",
    "print(l1)\n",
    "\n",
    "popped1 = l1.pop()\n",
    "print(popped1)\n",
    "popped2 = l1.pop(1)\n",
    "print(popped2)\n",
    "\n",
    "\n",
    "print(popped1,popped2,popped3,popped4)\n"
   ]
  },
  {
   "cell_type": "code",
   "execution_count": 58,
   "id": "3154ba69",
   "metadata": {},
   "outputs": [
    {
     "name": "stdout",
     "output_type": "stream",
     "text": [
      "[4, 3, 2, 1]\n"
     ]
    }
   ],
   "source": [
    "#reverse sorting\n",
    "mlt1 = [1,2,3,4]\n",
    "mlt.sort(reverse = True)\n",
    "print(mlt)"
   ]
  },
  {
   "cell_type": "code",
   "execution_count": 61,
   "id": "e534f984",
   "metadata": {},
   "outputs": [
    {
     "name": "stdout",
     "output_type": "stream",
     "text": [
      "['jhdfjd', 'cdjgsh', 'ahjhj', 'Ddgf', 'Ahsjkdhf']\n"
     ]
    }
   ],
   "source": [
    "mlt2 = ['ahjhj','jhdfjd','cdjgsh','Ddgf','Ahsjkdhf']\n",
    "mlt2.sort()\n",
    "mlt2.reverse()\n",
    "print(mlt2)"
   ]
  },
  {
   "cell_type": "code",
   "execution_count": null,
   "id": "226101c0",
   "metadata": {},
   "outputs": [],
   "source": []
  }
 ],
 "metadata": {
  "kernelspec": {
   "display_name": "Python 3 (ipykernel)",
   "language": "python",
   "name": "python3"
  },
  "language_info": {
   "codemirror_mode": {
    "name": "ipython",
    "version": 3
   },
   "file_extension": ".py",
   "mimetype": "text/x-python",
   "name": "python",
   "nbconvert_exporter": "python",
   "pygments_lexer": "ipython3",
   "version": "3.11.4"
  }
 },
 "nbformat": 4,
 "nbformat_minor": 5
}
