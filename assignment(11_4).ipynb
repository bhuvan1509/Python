{
 "cells": [
  {
   "cell_type": "code",
   "execution_count": 4,
   "id": "0b8c2a39",
   "metadata": {},
   "outputs": [
    {
     "name": "stdout",
     "output_type": "stream",
     "text": [
      "b\n",
      "jhdfshf\n"
     ]
    }
   ],
   "source": [
    "#question 4:to find vowels in a string\n",
    "#s = input(\"enter your string:\")\n",
    "str = \"bhuvan\"\n",
    "for i in range (0,len(str)) :\n",
    "    if str[i] == 'b':\n",
    "        print(\"b\")\n",
    "        break\n",
    "    else:\n",
    "        print(\"antha iipoidi babbuuuu:)\")\n",
    "print(\"jhdfshf\")"
   ]
  },
  {
   "cell_type": "code",
   "execution_count": null,
   "id": "5c032cf8",
   "metadata": {},
   "outputs": [],
   "source": [
    "#question 1 : election  system\n",
    "\n",
    "age = int(input(\"enter your age :\"))\n",
    "if age <18 and age > 0:\n",
    "    print(\"your age is less than 18 ,so not eligible \")\n",
    "elif age >= 18 and age > 0:\n",
    "    print(\"you are eligible\")\n",
    "else :\n",
    "    print(\"enter valid data\")\n"
   ]
  },
  {
   "cell_type": "code",
   "execution_count": null,
   "id": "9aa47b67",
   "metadata": {},
   "outputs": [],
   "source": [
    "#question 1 : election  system\n",
    "\n",
    "age = int(input(\"enter your age :\"))\n",
    "if age <18 and age > 0:\n",
    "    print(\"your age is less than 18 ,so not eligible \")\n",
    "elif age >= 18 and age > 0:\n",
    "    print(\"you are eligible\")\n",
    "else :\n",
    "    print(\"enter valid data\")\n"
   ]
  },
  {
   "cell_type": "code",
   "execution_count": null,
   "id": "ff4fab75",
   "metadata": {},
   "outputs": [],
   "source": [
    "#question 3:to check prime or not\n",
    "n1 = int(input(\"number = \"))\n",
    "def primeornot(num1) :\n",
    "    if num1 == 1:\n",
    "        print(\"1 is neither a prime nor composit number\")\n",
    "    elif num1 > 1 :\n",
    "        count = 0\n",
    "        for i in range (2,num1):\n",
    "            if num1 % i == 0:\n",
    "                count = count+1\n",
    "        if count >= 1 : \n",
    "            print(\"not prime\")\n",
    "        else :\n",
    "            print(\"prime\")\n",
    "primeornot(n1)"
   ]
  },
  {
   "cell_type": "code",
   "execution_count": null,
   "id": "db88146f",
   "metadata": {},
   "outputs": [],
   "source": [
    "\n",
    "#question 5:to find consonents in a string\n",
    "#question 6:to count number of occurances of a character in a string"
   ]
  },
  {
   "cell_type": "code",
   "execution_count": null,
   "id": "5e39a458",
   "metadata": {},
   "outputs": [],
   "source": []
  },
  {
   "cell_type": "code",
   "execution_count": 8,
   "id": "f0f4678e",
   "metadata": {},
   "outputs": [
    {
     "name": "stdout",
     "output_type": "stream",
     "text": [
      "enter your string:bhuvan\n",
      "u is a vowel\n",
      "a is a vowel\n"
     ]
    }
   ],
   "source": [
    "#question 4:to find vowels in a string\n",
    "s = input(\"enter your string:\")\n",
    "#vowels = ['a','e','i','o','u']\n",
    "vowels = \"aeiou\"\n",
    "for i in range(0,len(s)):\n",
    "    if s[i] in vowels:\n",
    "        print(f\"{s[i]} is a vowel\")\n",
    "        "
   ]
  },
  {
   "cell_type": "code",
   "execution_count": 10,
   "id": "9432a5ba",
   "metadata": {},
   "outputs": [
    {
     "name": "stdout",
     "output_type": "stream",
     "text": [
      "enter string:bhuvan\n",
      "b is a consonant\n",
      "h is a consonant\n",
      "v is a consonant\n",
      "n is a consonant\n"
     ]
    }
   ],
   "source": [
    "#question 5:to find consonents in a string\n",
    "\n",
    "consonants = 'bcdfghjklmnpqrstvwxyz'\n",
    "s1 = input(\"enter string:\")\n",
    "for i in range (0 , len(s1)):\n",
    "    if s1[i] in consonants:\n",
    "        print(f\"{s1[i]} is a consonant\")\n",
    "        "
   ]
  },
  {
   "cell_type": "code",
   "execution_count": 14,
   "id": "f95bac9a",
   "metadata": {},
   "outputs": [
    {
     "name": "stdout",
     "output_type": "stream",
     "text": [
      "enter string:occurance\n",
      "o's occurance is 1\n",
      "c's occurance is 3\n",
      "c's occurance is 3\n",
      "u's occurance is 1\n",
      "r's occurance is 1\n",
      "a's occurance is 1\n",
      "n's occurance is 1\n",
      "c's occurance is 3\n",
      "e's occurance is 1\n"
     ]
    }
   ],
   "source": [
    "#question 6:to count number of occurances of a character in a string\n",
    "\n",
    "s2 = input(\"enter string:\")\n",
    "for i in range(0,len(s2)):\n",
    "    c = s2[i]\n",
    "    count =0\n",
    "    for j in range(0,len(s2)):\n",
    "        if c == s2[j]:\n",
    "            count = count +1\n",
    "        else:\n",
    "            pass\n",
    "    print(f\"{s2[i]}'s occurance is {count}\")"
   ]
  },
  {
   "cell_type": "code",
   "execution_count": null,
   "id": "85eafd19",
   "metadata": {},
   "outputs": [],
   "source": []
  }
 ],
 "metadata": {
  "kernelspec": {
   "display_name": "Python 3 (ipykernel)",
   "language": "python",
   "name": "python3"
  },
  "language_info": {
   "codemirror_mode": {
    "name": "ipython",
    "version": 3
   },
   "file_extension": ".py",
   "mimetype": "text/x-python",
   "name": "python",
   "nbconvert_exporter": "python",
   "pygments_lexer": "ipython3",
   "version": "3.11.4"
  }
 },
 "nbformat": 4,
 "nbformat_minor": 5
}
