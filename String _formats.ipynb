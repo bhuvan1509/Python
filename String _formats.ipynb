{
 "cells": [
  {
   "cell_type": "markdown",
   "id": "b3c40036",
   "metadata": {},
   "source": [
    "# string formats using static and dynamic input\n"
   ]
  },
  {
   "cell_type": "code",
   "execution_count": 9,
   "id": "6446923e",
   "metadata": {},
   "outputs": [
    {
     "name": "stdout",
     "output_type": "stream",
     "text": [
      "my name is raj and my age is 21\n",
      "my name is rajesh and my age is 22\n",
      "my name is rothith and my name is 23\n"
     ]
    }
   ],
   "source": [
    "#static input --string formats (3)\n",
    "name1 = 'raj'\n",
    "age1 = 21\n",
    "name2 = 'rajesh'\n",
    "age2 = 22\n",
    "name3 = 'rohith'\n",
    "age3 = 23\n",
    "#old style \n",
    "print(\"my name is %s and my age is %d\" %(name1,age1))\n",
    "\n",
    "#format method\n",
    "print(\"my name is {} and my age is {}\" .format(name2,age2))\n",
    "\n",
    "#string interpolation\n",
    "print(f\"my name is {name3} and my name is {age3}\")"
   ]
  },
  {
   "cell_type": "code",
   "execution_count": 2,
   "id": "0e1105f6",
   "metadata": {},
   "outputs": [
    {
     "name": "stdout",
     "output_type": "stream",
     "text": [
      "name =bhuvan\n"
     ]
    }
   ],
   "source": [
    "name= input(\"name =\")"
   ]
  },
  {
   "cell_type": "code",
   "execution_count": 3,
   "id": "7e9ed348",
   "metadata": {},
   "outputs": [
    {
     "name": "stdout",
     "output_type": "stream",
     "text": [
      "bhuvan\n"
     ]
    }
   ],
   "source": [
    "print(name)"
   ]
  },
  {
   "cell_type": "code",
   "execution_count": 4,
   "id": "a434a067",
   "metadata": {},
   "outputs": [
    {
     "name": "stdout",
     "output_type": "stream",
     "text": [
      "what is your name1:bhuvan_raj\n",
      "what is yout age1:21\n",
      "what is your name2:harsha\n",
      "what is yout age2:22\n",
      "what is your name3:nikith\n",
      "what is yout age3:23\n",
      "my name is bhuvan_raj and my age is 21\n",
      "my name is harsha and my age is 22\n",
      "my name is nikith and my name is 23\n"
     ]
    }
   ],
   "source": [
    "#dynamic input --string formats (3)\n",
    "name1 = input(\"what is your name1:\")\n",
    "age1 = int(input(\"what is yout age1:\"))\n",
    "name2 = input(\"what is your name2:\")\n",
    "age2 = int(input(\"what is yout age2:\"))\n",
    "name3 = input(\"what is your name3:\")\n",
    "age3 = int(input(\"what is yout age3:\"))\n",
    "\n",
    "#old style \n",
    "print(\"my name is %s and my age is %d\" %(name1,age1))\n",
    "\n",
    "#format method\n",
    "print(\"my name is {} and my age is {}\" .format(name2,age2))\n",
    "\n",
    "#string interpolation\n",
    "print(f\"my name is {name3} and my name is {age3}\")"
   ]
  },
  {
   "cell_type": "code",
   "execution_count": 8,
   "id": "bb443c31",
   "metadata": {},
   "outputs": [
    {
     "name": "stdout",
     "output_type": "stream",
     "text": [
      "what is your salary:100.4\n",
      "my salary is 100.400000\n",
      "my salary = 100.4\n",
      "my salary = 100.4\n"
     ]
    }
   ],
   "source": [
    "# some random data types\n",
    "salary1= float(input(\"what is your salary:\"))\n",
    "salary1\n",
    "print(\"my salary is %f\" %salary1)\n",
    "print(\"my salary = {}\" .format(salary1))\n",
    "print(f\"my salary = {salary1}\")\n",
    "\n",
    "                     "
   ]
  },
  {
   "cell_type": "code",
   "execution_count": null,
   "id": "54af7002",
   "metadata": {},
   "outputs": [],
   "source": []
  }
 ],
 "metadata": {
  "kernelspec": {
   "display_name": "Python 3 (ipykernel)",
   "language": "python",
   "name": "python3"
  },
  "language_info": {
   "codemirror_mode": {
    "name": "ipython",
    "version": 3
   },
   "file_extension": ".py",
   "mimetype": "text/x-python",
   "name": "python",
   "nbconvert_exporter": "python",
   "pygments_lexer": "ipython3",
   "version": "3.11.4"
  }
 },
 "nbformat": 4,
 "nbformat_minor": 5
}
